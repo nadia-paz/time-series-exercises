{
 "cells": [
  {
   "cell_type": "markdown",
   "id": "b60f52a0",
   "metadata": {},
   "source": [
    "## Modeling exercises "
   ]
  },
  {
   "cell_type": "code",
   "execution_count": 3,
   "id": "fc709f52",
   "metadata": {},
   "outputs": [],
   "source": [
    "\n",
    "\n",
    "import numpy as np\n",
    "import pandas as pd\n",
    "\n",
    "# visualize \n",
    "import matplotlib.pyplot as plt\n",
    "%matplotlib inline\n",
    "import seaborn as sns\n",
    "\n",
    "# wrangle\n",
    "import acquire\n",
    "import prepare\n",
    "\n",
    "# working with dates\n",
    "from datetime import datetime\n",
    "\n",
    "# to evaluated performance using rmse\n",
    "from sklearn.metrics import mean_squared_error\n",
    "from math import sqrt \n",
    "\n",
    "# for tsa \n",
    "import statsmodels.api as sm\n",
    "\n",
    "# holt's linear trend model. \n",
    "from statsmodels.tsa.api import Holt, ExponentialSmoothing"
   ]
  },
  {
   "cell_type": "code",
   "execution_count": 4,
   "id": "5d5017e7",
   "metadata": {},
   "outputs": [],
   "source": [
    "# plotting defaults\n",
    "plt.rc('figure', figsize=(13, 7))\n",
    "plt.style.use('seaborn-whitegrid')\n",
    "plt.rc('font', size=16)"
   ]
  },
  {
   "cell_type": "markdown",
   "id": "1cec5317",
   "metadata": {},
   "source": [
    "Using [saas.csv](https://ds.codeup.com/saas.csv) or log data from API usage or store_item_sales"
   ]
  },
  {
   "cell_type": "code",
   "execution_count": 5,
   "id": "380ccc6e",
   "metadata": {},
   "outputs": [
    {
     "data": {
      "text/html": [
       "<div>\n",
       "<style scoped>\n",
       "    .dataframe tbody tr th:only-of-type {\n",
       "        vertical-align: middle;\n",
       "    }\n",
       "\n",
       "    .dataframe tbody tr th {\n",
       "        vertical-align: top;\n",
       "    }\n",
       "\n",
       "    .dataframe thead th {\n",
       "        text-align: right;\n",
       "    }\n",
       "</style>\n",
       "<table border=\"1\" class=\"dataframe\">\n",
       "  <thead>\n",
       "    <tr style=\"text-align: right;\">\n",
       "      <th></th>\n",
       "      <th>Month_Invoiced</th>\n",
       "      <th>Customer_Id</th>\n",
       "      <th>Invoice_Id</th>\n",
       "      <th>Subscription_Type</th>\n",
       "      <th>Amount</th>\n",
       "    </tr>\n",
       "  </thead>\n",
       "  <tbody>\n",
       "    <tr>\n",
       "      <th>0</th>\n",
       "      <td>2014-01-31</td>\n",
       "      <td>1000000</td>\n",
       "      <td>5000000</td>\n",
       "      <td>0.0</td>\n",
       "      <td>0.0</td>\n",
       "    </tr>\n",
       "    <tr>\n",
       "      <th>1</th>\n",
       "      <td>2014-01-31</td>\n",
       "      <td>1000001</td>\n",
       "      <td>5000001</td>\n",
       "      <td>2.0</td>\n",
       "      <td>10.0</td>\n",
       "    </tr>\n",
       "    <tr>\n",
       "      <th>2</th>\n",
       "      <td>2014-01-31</td>\n",
       "      <td>1000002</td>\n",
       "      <td>5000002</td>\n",
       "      <td>0.0</td>\n",
       "      <td>0.0</td>\n",
       "    </tr>\n",
       "    <tr>\n",
       "      <th>3</th>\n",
       "      <td>2014-01-31</td>\n",
       "      <td>1000003</td>\n",
       "      <td>5000003</td>\n",
       "      <td>0.0</td>\n",
       "      <td>0.0</td>\n",
       "    </tr>\n",
       "    <tr>\n",
       "      <th>4</th>\n",
       "      <td>2014-01-31</td>\n",
       "      <td>1000004</td>\n",
       "      <td>5000004</td>\n",
       "      <td>1.0</td>\n",
       "      <td>5.0</td>\n",
       "    </tr>\n",
       "  </tbody>\n",
       "</table>\n",
       "</div>"
      ],
      "text/plain": [
       "  Month_Invoiced  Customer_Id  Invoice_Id  Subscription_Type  Amount\n",
       "0     2014-01-31      1000000     5000000                0.0     0.0\n",
       "1     2014-01-31      1000001     5000001                2.0    10.0\n",
       "2     2014-01-31      1000002     5000002                0.0     0.0\n",
       "3     2014-01-31      1000003     5000003                0.0     0.0\n",
       "4     2014-01-31      1000004     5000004                1.0     5.0"
      ]
     },
     "execution_count": 5,
     "metadata": {},
     "output_type": "execute_result"
    }
   ],
   "source": [
    "url = 'https://ds.codeup.com/saas.csv'\n",
    "df = pd.read_csv(url)\n",
    "df.head()"
   ]
  },
  {
   "cell_type": "code",
   "execution_count": 6,
   "id": "f886fa35",
   "metadata": {},
   "outputs": [],
   "source": [
    "df.columns = df.columns.str.lower()"
   ]
  },
  {
   "cell_type": "code",
   "execution_count": 7,
   "id": "fcd1bb6d",
   "metadata": {},
   "outputs": [
    {
     "name": "stdout",
     "output_type": "stream",
     "text": [
      "<class 'pandas.core.frame.DataFrame'>\n",
      "RangeIndex: 790458 entries, 0 to 790457\n",
      "Data columns (total 5 columns):\n",
      " #   Column             Non-Null Count   Dtype  \n",
      "---  ------             --------------   -----  \n",
      " 0   month_invoiced     790458 non-null  object \n",
      " 1   customer_id        790458 non-null  int64  \n",
      " 2   invoice_id         790458 non-null  int64  \n",
      " 3   subscription_type  790458 non-null  float64\n",
      " 4   amount             790458 non-null  float64\n",
      "dtypes: float64(2), int64(2), object(1)\n",
      "memory usage: 30.2+ MB\n"
     ]
    }
   ],
   "source": [
    "df.info()"
   ]
  },
  {
   "cell_type": "code",
   "execution_count": 8,
   "id": "525109a7",
   "metadata": {},
   "outputs": [],
   "source": [
    "df.month_invoiced = pd.to_datetime(df.month_invoiced)"
   ]
  },
  {
   "cell_type": "code",
   "execution_count": 9,
   "id": "f11bb649",
   "metadata": {},
   "outputs": [],
   "source": [
    "df = df.set_index('month_invoiced').sort_index()"
   ]
  },
  {
   "cell_type": "code",
   "execution_count": 10,
   "id": "f364dd6b",
   "metadata": {},
   "outputs": [],
   "source": [
    "del df['customer_id']"
   ]
  },
  {
   "cell_type": "code",
   "execution_count": 11,
   "id": "407b477e",
   "metadata": {},
   "outputs": [],
   "source": [
    "del df['invoice_id']"
   ]
  },
  {
   "cell_type": "code",
   "execution_count": 12,
   "id": "4f6385af",
   "metadata": {},
   "outputs": [
    {
     "data": {
      "text/html": [
       "<div>\n",
       "<style scoped>\n",
       "    .dataframe tbody tr th:only-of-type {\n",
       "        vertical-align: middle;\n",
       "    }\n",
       "\n",
       "    .dataframe tbody tr th {\n",
       "        vertical-align: top;\n",
       "    }\n",
       "\n",
       "    .dataframe thead th {\n",
       "        text-align: right;\n",
       "    }\n",
       "</style>\n",
       "<table border=\"1\" class=\"dataframe\">\n",
       "  <thead>\n",
       "    <tr style=\"text-align: right;\">\n",
       "      <th></th>\n",
       "      <th>subscription_type</th>\n",
       "      <th>amount</th>\n",
       "    </tr>\n",
       "    <tr>\n",
       "      <th>month_invoiced</th>\n",
       "      <th></th>\n",
       "      <th></th>\n",
       "    </tr>\n",
       "  </thead>\n",
       "  <tbody>\n",
       "    <tr>\n",
       "      <th>2014-01-31</th>\n",
       "      <td>0.0</td>\n",
       "      <td>0.0</td>\n",
       "    </tr>\n",
       "  </tbody>\n",
       "</table>\n",
       "</div>"
      ],
      "text/plain": [
       "                subscription_type  amount\n",
       "month_invoiced                           \n",
       "2014-01-31                    0.0     0.0"
      ]
     },
     "execution_count": 12,
     "metadata": {},
     "output_type": "execute_result"
    }
   ],
   "source": [
    "df.head(1)"
   ]
  },
  {
   "cell_type": "code",
   "execution_count": 13,
   "id": "3198941a",
   "metadata": {},
   "outputs": [
    {
     "data": {
      "text/plain": [
       "0.0    496410\n",
       "1.0    178212\n",
       "2.0     70706\n",
       "3.0     26474\n",
       "4.0     18656\n",
       "Name: subscription_type, dtype: int64"
      ]
     },
     "execution_count": 13,
     "metadata": {},
     "output_type": "execute_result"
    }
   ],
   "source": [
    "df.subscription_type.value_counts()"
   ]
  },
  {
   "cell_type": "code",
   "execution_count": 14,
   "id": "9dbaf4a8",
   "metadata": {},
   "outputs": [
    {
     "data": {
      "text/plain": [
       "0.0     496410\n",
       "5.0     178212\n",
       "10.0     70706\n",
       "15.0     26474\n",
       "20.0     18656\n",
       "Name: amount, dtype: int64"
      ]
     },
     "execution_count": 14,
     "metadata": {},
     "output_type": "execute_result"
    }
   ],
   "source": [
    "df.amount.value_counts()"
   ]
  },
  {
   "cell_type": "code",
   "execution_count": 16,
   "id": "9a49d9e6",
   "metadata": {},
   "outputs": [],
   "source": [
    "df.subscription_type = df.subscription_type.astype('uint8')"
   ]
  },
  {
   "cell_type": "code",
   "execution_count": 17,
   "id": "5acd55bb",
   "metadata": {},
   "outputs": [],
   "source": [
    "df.amount = df.amount.astype('uint8')"
   ]
  },
  {
   "cell_type": "code",
   "execution_count": 44,
   "id": "1430b566",
   "metadata": {},
   "outputs": [
    {
     "data": {
      "text/plain": [
       "0"
      ]
     },
     "execution_count": 44,
     "metadata": {},
     "output_type": "execute_result"
    }
   ],
   "source": [
    "(df.amount != df.subscription_type * 5).sum()"
   ]
  },
  {
   "cell_type": "code",
   "execution_count": 18,
   "id": "516a25bc",
   "metadata": {},
   "outputs": [
    {
     "name": "stdout",
     "output_type": "stream",
     "text": [
      "<class 'pandas.core.frame.DataFrame'>\n",
      "DatetimeIndex: 790458 entries, 2014-01-31 to 2017-12-31\n",
      "Data columns (total 2 columns):\n",
      " #   Column             Non-Null Count   Dtype\n",
      "---  ------             --------------   -----\n",
      " 0   subscription_type  790458 non-null  uint8\n",
      " 1   amount             790458 non-null  uint8\n",
      "dtypes: uint8(2)\n",
      "memory usage: 7.5 MB\n"
     ]
    }
   ],
   "source": [
    "df.info()"
   ]
  },
  {
   "cell_type": "code",
   "execution_count": 19,
   "id": "fa1c83a3",
   "metadata": {},
   "outputs": [
    {
     "data": {
      "text/html": [
       "<div>\n",
       "<style scoped>\n",
       "    .dataframe tbody tr th:only-of-type {\n",
       "        vertical-align: middle;\n",
       "    }\n",
       "\n",
       "    .dataframe tbody tr th {\n",
       "        vertical-align: top;\n",
       "    }\n",
       "\n",
       "    .dataframe thead th {\n",
       "        text-align: right;\n",
       "    }\n",
       "</style>\n",
       "<table border=\"1\" class=\"dataframe\">\n",
       "  <thead>\n",
       "    <tr style=\"text-align: right;\">\n",
       "      <th>amount</th>\n",
       "      <th>0</th>\n",
       "      <th>5</th>\n",
       "      <th>10</th>\n",
       "      <th>15</th>\n",
       "      <th>20</th>\n",
       "    </tr>\n",
       "    <tr>\n",
       "      <th>subscription_type</th>\n",
       "      <th></th>\n",
       "      <th></th>\n",
       "      <th></th>\n",
       "      <th></th>\n",
       "      <th></th>\n",
       "    </tr>\n",
       "  </thead>\n",
       "  <tbody>\n",
       "    <tr>\n",
       "      <th>0</th>\n",
       "      <td>496410</td>\n",
       "      <td>0</td>\n",
       "      <td>0</td>\n",
       "      <td>0</td>\n",
       "      <td>0</td>\n",
       "    </tr>\n",
       "    <tr>\n",
       "      <th>1</th>\n",
       "      <td>0</td>\n",
       "      <td>178212</td>\n",
       "      <td>0</td>\n",
       "      <td>0</td>\n",
       "      <td>0</td>\n",
       "    </tr>\n",
       "    <tr>\n",
       "      <th>2</th>\n",
       "      <td>0</td>\n",
       "      <td>0</td>\n",
       "      <td>70706</td>\n",
       "      <td>0</td>\n",
       "      <td>0</td>\n",
       "    </tr>\n",
       "    <tr>\n",
       "      <th>3</th>\n",
       "      <td>0</td>\n",
       "      <td>0</td>\n",
       "      <td>0</td>\n",
       "      <td>26474</td>\n",
       "      <td>0</td>\n",
       "    </tr>\n",
       "    <tr>\n",
       "      <th>4</th>\n",
       "      <td>0</td>\n",
       "      <td>0</td>\n",
       "      <td>0</td>\n",
       "      <td>0</td>\n",
       "      <td>18656</td>\n",
       "    </tr>\n",
       "  </tbody>\n",
       "</table>\n",
       "</div>"
      ],
      "text/plain": [
       "amount                 0       5      10     15     20\n",
       "subscription_type                                     \n",
       "0                  496410       0      0      0      0\n",
       "1                       0  178212      0      0      0\n",
       "2                       0       0  70706      0      0\n",
       "3                       0       0      0  26474      0\n",
       "4                       0       0      0      0  18656"
      ]
     },
     "execution_count": 19,
     "metadata": {},
     "output_type": "execute_result"
    }
   ],
   "source": [
    "pd.crosstab(df.subscription_type, df.amount)"
   ]
  },
  {
   "cell_type": "code",
   "execution_count": 20,
   "id": "74f2b90e",
   "metadata": {
    "scrolled": true
   },
   "outputs": [
    {
     "data": {
      "text/html": [
       "<div>\n",
       "<style scoped>\n",
       "    .dataframe tbody tr th:only-of-type {\n",
       "        vertical-align: middle;\n",
       "    }\n",
       "\n",
       "    .dataframe tbody tr th {\n",
       "        vertical-align: top;\n",
       "    }\n",
       "\n",
       "    .dataframe thead th {\n",
       "        text-align: right;\n",
       "    }\n",
       "</style>\n",
       "<table border=\"1\" class=\"dataframe\">\n",
       "  <thead>\n",
       "    <tr style=\"text-align: right;\">\n",
       "      <th></th>\n",
       "      <th>subscription_type</th>\n",
       "      <th>amount</th>\n",
       "    </tr>\n",
       "    <tr>\n",
       "      <th>month_invoiced</th>\n",
       "      <th></th>\n",
       "      <th></th>\n",
       "    </tr>\n",
       "  </thead>\n",
       "  <tbody>\n",
       "    <tr>\n",
       "      <th>2014-01-31</th>\n",
       "      <td>0</td>\n",
       "      <td>0</td>\n",
       "    </tr>\n",
       "    <tr>\n",
       "      <th>2017-12-31</th>\n",
       "      <td>0</td>\n",
       "      <td>0</td>\n",
       "    </tr>\n",
       "  </tbody>\n",
       "</table>\n",
       "</div>"
      ],
      "text/plain": [
       "                subscription_type  amount\n",
       "month_invoiced                           \n",
       "2014-01-31                      0       0\n",
       "2017-12-31                      0       0"
      ]
     },
     "execution_count": 20,
     "metadata": {},
     "output_type": "execute_result"
    }
   ],
   "source": [
    "pd.concat([df.head(1), df.tail(1)])"
   ]
  },
  {
   "cell_type": "code",
   "execution_count": null,
   "id": "3bf9a0dc",
   "metadata": {},
   "outputs": [],
   "source": [
    "drop "
   ]
  },
  {
   "cell_type": "markdown",
   "id": "e8bee872",
   "metadata": {},
   "source": [
    "**1. Split data (train/test) and resample by any period, except daily, and aggregate using the sum.**"
   ]
  },
  {
   "cell_type": "code",
   "execution_count": 21,
   "id": "0441b569",
   "metadata": {},
   "outputs": [],
   "source": [
    "train_size = int(round(df.shape[0] * 0.5))\n",
    "validate_size = int(round(df.shape[0] * 0.3))\n",
    "test_size = int(round(df.shape[0] * 0.2))"
   ]
  },
  {
   "cell_type": "code",
   "execution_count": 22,
   "id": "01ef78ab",
   "metadata": {},
   "outputs": [
    {
     "data": {
      "text/plain": [
       "True"
      ]
     },
     "execution_count": 22,
     "metadata": {},
     "output_type": "execute_result"
    }
   ],
   "source": [
    "# confirm the length\n",
    "len(df) == train_size + validate_size + test_size"
   ]
  },
  {
   "cell_type": "code",
   "execution_count": 25,
   "id": "fc30543d",
   "metadata": {},
   "outputs": [],
   "source": [
    "validate_end_index = train_size + validate_size\n",
    "train = df[:train_size].copy()\n",
    "validate = df[train_size:validate_end_index].copy()\n",
    "test = df[validate_end_index:].copy()"
   ]
  },
  {
   "cell_type": "code",
   "execution_count": 26,
   "id": "0a6da9f9",
   "metadata": {},
   "outputs": [
    {
     "data": {
      "text/html": [
       "<div>\n",
       "<style scoped>\n",
       "    .dataframe tbody tr th:only-of-type {\n",
       "        vertical-align: middle;\n",
       "    }\n",
       "\n",
       "    .dataframe tbody tr th {\n",
       "        vertical-align: top;\n",
       "    }\n",
       "\n",
       "    .dataframe thead th {\n",
       "        text-align: right;\n",
       "    }\n",
       "</style>\n",
       "<table border=\"1\" class=\"dataframe\">\n",
       "  <thead>\n",
       "    <tr style=\"text-align: right;\">\n",
       "      <th></th>\n",
       "      <th>subscription_type</th>\n",
       "      <th>amount</th>\n",
       "    </tr>\n",
       "    <tr>\n",
       "      <th>month_invoiced</th>\n",
       "      <th></th>\n",
       "      <th></th>\n",
       "    </tr>\n",
       "  </thead>\n",
       "  <tbody>\n",
       "    <tr>\n",
       "      <th>2015-10-31</th>\n",
       "      <td>1</td>\n",
       "      <td>5</td>\n",
       "    </tr>\n",
       "    <tr>\n",
       "      <th>2015-10-31</th>\n",
       "      <td>0</td>\n",
       "      <td>0</td>\n",
       "    </tr>\n",
       "    <tr>\n",
       "      <th>2015-10-31</th>\n",
       "      <td>0</td>\n",
       "      <td>0</td>\n",
       "    </tr>\n",
       "    <tr>\n",
       "      <th>2015-10-31</th>\n",
       "      <td>0</td>\n",
       "      <td>0</td>\n",
       "    </tr>\n",
       "    <tr>\n",
       "      <th>2015-10-31</th>\n",
       "      <td>0</td>\n",
       "      <td>0</td>\n",
       "    </tr>\n",
       "    <tr>\n",
       "      <th>2015-10-31</th>\n",
       "      <td>1</td>\n",
       "      <td>5</td>\n",
       "    </tr>\n",
       "  </tbody>\n",
       "</table>\n",
       "</div>"
      ],
      "text/plain": [
       "                subscription_type  amount\n",
       "month_invoiced                           \n",
       "2015-10-31                      1       5\n",
       "2015-10-31                      0       0\n",
       "2015-10-31                      0       0\n",
       "2015-10-31                      0       0\n",
       "2015-10-31                      0       0\n",
       "2015-10-31                      1       5"
      ]
     },
     "execution_count": 26,
     "metadata": {},
     "output_type": "execute_result"
    }
   ],
   "source": [
    "pd.concat([train.tail(3), validate.head(3)])"
   ]
  },
  {
   "cell_type": "code",
   "execution_count": 28,
   "id": "9152c818",
   "metadata": {},
   "outputs": [],
   "source": [
    "# breaks the same date into train and validate. I'll train a different approach for the split\n",
    "del train \n",
    "del validate\n",
    "del test"
   ]
  },
  {
   "cell_type": "code",
   "execution_count": 30,
   "id": "c4b1e37f",
   "metadata": {},
   "outputs": [],
   "source": [
    "del train_size\n",
    "del validate_size\n",
    "del test_size\n",
    "del validate_end_index"
   ]
  },
  {
   "cell_type": "code",
   "execution_count": 33,
   "id": "d5d6ee03",
   "metadata": {},
   "outputs": [
    {
     "data": {
      "text/plain": [
       "False"
      ]
     },
     "execution_count": 33,
     "metadata": {},
     "output_type": "execute_result"
    }
   ],
   "source": [
    "len(df.index) == df.index.nunique()"
   ]
  },
  {
   "cell_type": "code",
   "execution_count": 35,
   "id": "0a3530ed",
   "metadata": {},
   "outputs": [
    {
     "data": {
      "text/plain": [
       "48"
      ]
     },
     "execution_count": 35,
     "metadata": {},
     "output_type": "execute_result"
    }
   ],
   "source": [
    "df.index.nunique()"
   ]
  },
  {
   "cell_type": "code",
   "execution_count": 37,
   "id": "3303cb64",
   "metadata": {},
   "outputs": [
    {
     "data": {
      "text/plain": [
       "[Timestamp('2014-01-31 00:00:00'),\n",
       " Timestamp('2014-02-28 00:00:00'),\n",
       " Timestamp('2014-03-31 00:00:00'),\n",
       " Timestamp('2014-04-30 00:00:00'),\n",
       " Timestamp('2014-05-31 00:00:00'),\n",
       " Timestamp('2014-06-30 00:00:00'),\n",
       " Timestamp('2014-07-31 00:00:00'),\n",
       " Timestamp('2014-08-31 00:00:00'),\n",
       " Timestamp('2014-09-30 00:00:00'),\n",
       " Timestamp('2014-10-31 00:00:00'),\n",
       " Timestamp('2014-11-30 00:00:00'),\n",
       " Timestamp('2014-12-31 00:00:00'),\n",
       " Timestamp('2015-01-31 00:00:00'),\n",
       " Timestamp('2015-02-28 00:00:00'),\n",
       " Timestamp('2015-03-31 00:00:00'),\n",
       " Timestamp('2015-04-30 00:00:00'),\n",
       " Timestamp('2015-05-31 00:00:00'),\n",
       " Timestamp('2015-06-30 00:00:00'),\n",
       " Timestamp('2015-07-31 00:00:00'),\n",
       " Timestamp('2015-08-31 00:00:00'),\n",
       " Timestamp('2015-09-30 00:00:00'),\n",
       " Timestamp('2015-10-31 00:00:00'),\n",
       " Timestamp('2015-11-30 00:00:00'),\n",
       " Timestamp('2015-12-31 00:00:00'),\n",
       " Timestamp('2016-01-31 00:00:00'),\n",
       " Timestamp('2016-02-29 00:00:00'),\n",
       " Timestamp('2016-03-31 00:00:00'),\n",
       " Timestamp('2016-04-30 00:00:00'),\n",
       " Timestamp('2016-05-31 00:00:00'),\n",
       " Timestamp('2016-06-30 00:00:00'),\n",
       " Timestamp('2016-07-31 00:00:00'),\n",
       " Timestamp('2016-08-31 00:00:00'),\n",
       " Timestamp('2016-09-30 00:00:00'),\n",
       " Timestamp('2016-10-31 00:00:00'),\n",
       " Timestamp('2016-11-30 00:00:00'),\n",
       " Timestamp('2016-12-31 00:00:00'),\n",
       " Timestamp('2017-01-31 00:00:00'),\n",
       " Timestamp('2017-02-28 00:00:00'),\n",
       " Timestamp('2017-03-31 00:00:00'),\n",
       " Timestamp('2017-04-30 00:00:00'),\n",
       " Timestamp('2017-05-31 00:00:00'),\n",
       " Timestamp('2017-06-30 00:00:00'),\n",
       " Timestamp('2017-07-31 00:00:00'),\n",
       " Timestamp('2017-08-31 00:00:00'),\n",
       " Timestamp('2017-09-30 00:00:00'),\n",
       " Timestamp('2017-10-31 00:00:00'),\n",
       " Timestamp('2017-11-30 00:00:00'),\n",
       " Timestamp('2017-12-31 00:00:00')]"
      ]
     },
     "execution_count": 37,
     "metadata": {},
     "output_type": "execute_result"
    }
   ],
   "source": [
    "list(df.index.unique())"
   ]
  },
  {
   "cell_type": "code",
   "execution_count": 46,
   "id": "c3096aa1",
   "metadata": {},
   "outputs": [],
   "source": [
    "del df['subscription_type']"
   ]
  },
  {
   "cell_type": "code",
   "execution_count": 47,
   "id": "68c4d046",
   "metadata": {},
   "outputs": [],
   "source": [
    "train = df.loc[:'2015'].copy()\n",
    "validate = df.loc['2016'].copy()\n",
    "test = df.loc['2017'].copy()"
   ]
  },
  {
   "cell_type": "code",
   "execution_count": 48,
   "id": "4c61c89f",
   "metadata": {},
   "outputs": [
    {
     "data": {
      "text/html": [
       "<div>\n",
       "<style scoped>\n",
       "    .dataframe tbody tr th:only-of-type {\n",
       "        vertical-align: middle;\n",
       "    }\n",
       "\n",
       "    .dataframe tbody tr th {\n",
       "        vertical-align: top;\n",
       "    }\n",
       "\n",
       "    .dataframe thead th {\n",
       "        text-align: right;\n",
       "    }\n",
       "</style>\n",
       "<table border=\"1\" class=\"dataframe\">\n",
       "  <thead>\n",
       "    <tr style=\"text-align: right;\">\n",
       "      <th></th>\n",
       "      <th>amount</th>\n",
       "    </tr>\n",
       "    <tr>\n",
       "      <th>month_invoiced</th>\n",
       "      <th></th>\n",
       "    </tr>\n",
       "  </thead>\n",
       "  <tbody>\n",
       "    <tr>\n",
       "      <th>2015-12-31</th>\n",
       "      <td>0</td>\n",
       "    </tr>\n",
       "    <tr>\n",
       "      <th>2015-12-31</th>\n",
       "      <td>0</td>\n",
       "    </tr>\n",
       "    <tr>\n",
       "      <th>2015-12-31</th>\n",
       "      <td>0</td>\n",
       "    </tr>\n",
       "    <tr>\n",
       "      <th>2016-01-31</th>\n",
       "      <td>5</td>\n",
       "    </tr>\n",
       "    <tr>\n",
       "      <th>2016-01-31</th>\n",
       "      <td>0</td>\n",
       "    </tr>\n",
       "    <tr>\n",
       "      <th>2016-01-31</th>\n",
       "      <td>5</td>\n",
       "    </tr>\n",
       "  </tbody>\n",
       "</table>\n",
       "</div>"
      ],
      "text/plain": [
       "                amount\n",
       "month_invoiced        \n",
       "2015-12-31           0\n",
       "2015-12-31           0\n",
       "2015-12-31           0\n",
       "2016-01-31           5\n",
       "2016-01-31           0\n",
       "2016-01-31           5"
      ]
     },
     "execution_count": 48,
     "metadata": {},
     "output_type": "execute_result"
    }
   ],
   "source": [
    "pd.concat([train.tail(3), validate.head(3)])"
   ]
  },
  {
   "cell_type": "code",
   "execution_count": 49,
   "id": "3ddfe930",
   "metadata": {},
   "outputs": [
    {
     "data": {
      "text/html": [
       "<div>\n",
       "<style scoped>\n",
       "    .dataframe tbody tr th:only-of-type {\n",
       "        vertical-align: middle;\n",
       "    }\n",
       "\n",
       "    .dataframe tbody tr th {\n",
       "        vertical-align: top;\n",
       "    }\n",
       "\n",
       "    .dataframe thead th {\n",
       "        text-align: right;\n",
       "    }\n",
       "</style>\n",
       "<table border=\"1\" class=\"dataframe\">\n",
       "  <thead>\n",
       "    <tr style=\"text-align: right;\">\n",
       "      <th></th>\n",
       "      <th>amount</th>\n",
       "    </tr>\n",
       "    <tr>\n",
       "      <th>month_invoiced</th>\n",
       "      <th></th>\n",
       "    </tr>\n",
       "  </thead>\n",
       "  <tbody>\n",
       "    <tr>\n",
       "      <th>2016-12-31</th>\n",
       "      <td>0</td>\n",
       "    </tr>\n",
       "    <tr>\n",
       "      <th>2016-12-31</th>\n",
       "      <td>0</td>\n",
       "    </tr>\n",
       "    <tr>\n",
       "      <th>2016-12-31</th>\n",
       "      <td>0</td>\n",
       "    </tr>\n",
       "    <tr>\n",
       "      <th>2017-01-31</th>\n",
       "      <td>5</td>\n",
       "    </tr>\n",
       "    <tr>\n",
       "      <th>2017-01-31</th>\n",
       "      <td>0</td>\n",
       "    </tr>\n",
       "    <tr>\n",
       "      <th>2017-01-31</th>\n",
       "      <td>5</td>\n",
       "    </tr>\n",
       "  </tbody>\n",
       "</table>\n",
       "</div>"
      ],
      "text/plain": [
       "                amount\n",
       "month_invoiced        \n",
       "2016-12-31           0\n",
       "2016-12-31           0\n",
       "2016-12-31           0\n",
       "2017-01-31           5\n",
       "2017-01-31           0\n",
       "2017-01-31           5"
      ]
     },
     "execution_count": 49,
     "metadata": {},
     "output_type": "execute_result"
    }
   ],
   "source": [
    "pd.concat([validate.tail(3), test.head(3)])"
   ]
  },
  {
   "cell_type": "code",
   "execution_count": 54,
   "id": "e611e27b",
   "metadata": {},
   "outputs": [],
   "source": [
    "train = train.resample('M').sum()\n",
    "validate = validate.resample('M').sum()\n",
    "test = test.resample('M').sum()"
   ]
  },
  {
   "cell_type": "code",
   "execution_count": 55,
   "id": "ecc2dc5d",
   "metadata": {
    "scrolled": true
   },
   "outputs": [
    {
     "data": {
      "text/html": [
       "<div>\n",
       "<style scoped>\n",
       "    .dataframe tbody tr th:only-of-type {\n",
       "        vertical-align: middle;\n",
       "    }\n",
       "\n",
       "    .dataframe tbody tr th {\n",
       "        vertical-align: top;\n",
       "    }\n",
       "\n",
       "    .dataframe thead th {\n",
       "        text-align: right;\n",
       "    }\n",
       "</style>\n",
       "<table border=\"1\" class=\"dataframe\">\n",
       "  <thead>\n",
       "    <tr style=\"text-align: right;\">\n",
       "      <th></th>\n",
       "      <th>amount</th>\n",
       "    </tr>\n",
       "    <tr>\n",
       "      <th>month_invoiced</th>\n",
       "      <th></th>\n",
       "    </tr>\n",
       "  </thead>\n",
       "  <tbody>\n",
       "    <tr>\n",
       "      <th>2014-01-31</th>\n",
       "      <td>35850.0</td>\n",
       "    </tr>\n",
       "    <tr>\n",
       "      <th>2014-02-28</th>\n",
       "      <td>37190.0</td>\n",
       "    </tr>\n",
       "    <tr>\n",
       "      <th>2014-03-31</th>\n",
       "      <td>38295.0</td>\n",
       "    </tr>\n",
       "    <tr>\n",
       "      <th>2014-04-30</th>\n",
       "      <td>39255.0</td>\n",
       "    </tr>\n",
       "    <tr>\n",
       "      <th>2014-05-31</th>\n",
       "      <td>40355.0</td>\n",
       "    </tr>\n",
       "  </tbody>\n",
       "</table>\n",
       "</div>"
      ],
      "text/plain": [
       "                 amount\n",
       "month_invoiced         \n",
       "2014-01-31      35850.0\n",
       "2014-02-28      37190.0\n",
       "2014-03-31      38295.0\n",
       "2014-04-30      39255.0\n",
       "2014-05-31      40355.0"
      ]
     },
     "execution_count": 55,
     "metadata": {},
     "output_type": "execute_result"
    }
   ],
   "source": [
    "train.head()"
   ]
  },
  {
   "cell_type": "code",
   "execution_count": 56,
   "id": "8e488cee",
   "metadata": {},
   "outputs": [
    {
     "data": {
      "text/plain": [
       "(24, 12, 12)"
      ]
     },
     "execution_count": 56,
     "metadata": {},
     "output_type": "execute_result"
    }
   ],
   "source": [
    "len(train), len(validate), len(test)"
   ]
  },
  {
   "cell_type": "code",
   "execution_count": 63,
   "id": "4304efa6",
   "metadata": {},
   "outputs": [
    {
     "data": {
      "image/png": "[encoded data removed]",
      "text/plain": [
       "<Figure size 936x504 with 1 Axes>"
      ]
     },
     "metadata": {},
     "output_type": "display_data"
    }
   ],
   "source": [
    "for col in train.columns:\n",
    "    train[col].plot(label='Train')\n",
    "    validate[col].plot(label='Validate')\n",
    "    test[col].plot(label='Test')\n",
    "    plt.title('Amount per month')\n",
    "    plt.legend()\n",
    "    plt.show()"
   ]
  },
  {
   "cell_type": "markdown",
   "id": "246e0b44",
   "metadata": {},
   "source": [
    "**2. Forecast, plot and evaluate using each of the 4 parametric based methods we discussed:**\n",
    "  - Simple Average\n",
    "  - Moving Average\n",
    "  - Holt's Linear Trend Model\n",
    "  - Based on previous year/month/etc., this is up to you."
   ]
  },
  {
   "cell_type": "code",
   "execution_count": null,
   "id": "f91b1ba8",
   "metadata": {},
   "outputs": [],
   "source": [
    "pd.DataFrame(\n",
    "    {'sales_total': [last_sales],\n",
    "     'sale_amount': [last_quantity]},\n",
    "    index=validate.index)"
   ]
  },
  {
   "cell_type": "code",
   "execution_count": 64,
   "id": "f5506767",
   "metadata": {},
   "outputs": [],
   "source": [
    "predictions_train = pd.DataFrame(index=train.index)\n",
    "predictions_validate = pd.DataFrame(index=validate.index)"
   ]
  },
  {
   "cell_type": "code",
   "execution_count": 67,
   "id": "41cd366a",
   "metadata": {},
   "outputs": [
    {
     "data": {
      "text/html": [
       "<div>\n",
       "<style scoped>\n",
       "    .dataframe tbody tr th:only-of-type {\n",
       "        vertical-align: middle;\n",
       "    }\n",
       "\n",
       "    .dataframe tbody tr th {\n",
       "        vertical-align: top;\n",
       "    }\n",
       "\n",
       "    .dataframe thead th {\n",
       "        text-align: right;\n",
       "    }\n",
       "</style>\n",
       "<table border=\"1\" class=\"dataframe\">\n",
       "  <thead>\n",
       "    <tr style=\"text-align: right;\">\n",
       "      <th></th>\n",
       "    </tr>\n",
       "    <tr>\n",
       "      <th>month_invoiced</th>\n",
       "    </tr>\n",
       "  </thead>\n",
       "  <tbody>\n",
       "    <tr>\n",
       "      <th>2014-01-31</th>\n",
       "    </tr>\n",
       "  </tbody>\n",
       "</table>\n",
       "</div>"
      ],
      "text/plain": [
       "Empty DataFrame\n",
       "Columns: []\n",
       "Index: [2014-01-31 00:00:00]"
      ]
     },
     "execution_count": 67,
     "metadata": {},
     "output_type": "execute_result"
    }
   ],
   "source": [
    "predictions_train.head(1)"
   ]
  },
  {
   "cell_type": "code",
   "execution_count": 68,
   "id": "8f6ea0d7",
   "metadata": {},
   "outputs": [],
   "source": [
    "scores = pd.DataFrame(columns=['model_name', 'train_score', 'validate_score'])"
   ]
  },
  {
   "cell_type": "code",
   "execution_count": 86,
   "id": "78988845",
   "metadata": {},
   "outputs": [],
   "source": [
    "def evaluate(target_name: str, model_name: str):\n",
    "    RMSE_train = round(np.sqrt(mean_squared_error(train[target_name], predictions_train[model_name])))\n",
    "    RMSE_validate = round(np.sqrt(mean_squared_error(validate[target_name], predictions_validate[model_name])))\n",
    "    scores.loc[len(scores)] = [model_name, RMSE_train, RMSE_validate]\n",
    "    \n",
    "    # plot\n",
    "    plt.figure(figsize = (12,4))\n",
    "    plt.plot(train[target_name], label='Train', linewidth=1)\n",
    "    plt.plot(validate[target_name], label='Validate', linewidth=1)\n",
    "    plt.plot(predictions_train[model_name], label=model_name + '_train')\n",
    "    plt.plot(predictions_validate[model_name], label=model_name + '_validate')\n",
    "    plt.title(target_name)\n",
    "    \n",
    "    print(target_name, '-- RMSE train: {:.0f}'.format(RMSE_train))\n",
    "    print(target_name, '-- RMSE validate: {:.0f}'.format(RMSE_validate))\n",
    "    plt.show()"
   ]
  },
  {
   "cell_type": "markdown",
   "id": "b6b3d4f0",
   "metadata": {},
   "source": [
    "#### Simple Average"
   ]
  },
  {
   "cell_type": "code",
   "execution_count": 73,
   "id": "ab7754e1",
   "metadata": {},
   "outputs": [],
   "source": [
    "avg_amount = round(train['amount'].mean(), 2)"
   ]
  },
  {
   "cell_type": "code",
   "execution_count": 74,
   "id": "a13b9b76",
   "metadata": {},
   "outputs": [
    {
     "data": {
      "text/plain": [
       "45568.54"
      ]
     },
     "execution_count": 74,
     "metadata": {},
     "output_type": "execute_result"
    }
   ],
   "source": [
    "avg_amount"
   ]
  },
  {
   "cell_type": "code",
   "execution_count": 75,
   "id": "f4935b5b",
   "metadata": {},
   "outputs": [],
   "source": [
    "predictions_train['simple_average'] = avg_amount\n",
    "predictions_validate['simple_average'] = avg_amount"
   ]
  },
  {
   "cell_type": "code",
   "execution_count": 77,
   "id": "4e9fe222",
   "metadata": {},
   "outputs": [
    {
     "data": {
      "text/html": [
       "<div>\n",
       "<style scoped>\n",
       "    .dataframe tbody tr th:only-of-type {\n",
       "        vertical-align: middle;\n",
       "    }\n",
       "\n",
       "    .dataframe tbody tr th {\n",
       "        vertical-align: top;\n",
       "    }\n",
       "\n",
       "    .dataframe thead th {\n",
       "        text-align: right;\n",
       "    }\n",
       "</style>\n",
       "<table border=\"1\" class=\"dataframe\">\n",
       "  <thead>\n",
       "    <tr style=\"text-align: right;\">\n",
       "      <th></th>\n",
       "      <th>simple_average</th>\n",
       "    </tr>\n",
       "    <tr>\n",
       "      <th>month_invoiced</th>\n",
       "      <th></th>\n",
       "    </tr>\n",
       "  </thead>\n",
       "  <tbody>\n",
       "    <tr>\n",
       "      <th>2016-01-31</th>\n",
       "      <td>45568.54</td>\n",
       "    </tr>\n",
       "    <tr>\n",
       "      <th>2016-02-29</th>\n",
       "      <td>45568.54</td>\n",
       "    </tr>\n",
       "    <tr>\n",
       "      <th>2016-03-31</th>\n",
       "      <td>45568.54</td>\n",
       "    </tr>\n",
       "    <tr>\n",
       "      <th>2016-04-30</th>\n",
       "      <td>45568.54</td>\n",
       "    </tr>\n",
       "    <tr>\n",
       "      <th>2016-05-31</th>\n",
       "      <td>45568.54</td>\n",
       "    </tr>\n",
       "  </tbody>\n",
       "</table>\n",
       "</div>"
      ],
      "text/plain": [
       "                simple_average\n",
       "month_invoiced                \n",
       "2016-01-31            45568.54\n",
       "2016-02-29            45568.54\n",
       "2016-03-31            45568.54\n",
       "2016-04-30            45568.54\n",
       "2016-05-31            45568.54"
      ]
     },
     "execution_count": 77,
     "metadata": {},
     "output_type": "execute_result"
    }
   ],
   "source": [
    "predictions_validate.head()"
   ]
  },
  {
   "cell_type": "code",
   "execution_count": 89,
   "id": "ee2bed61",
   "metadata": {},
   "outputs": [
    {
     "name": "stdout",
     "output_type": "stream",
     "text": [
      "amount -- RMSE train: 4777\n",
      "amount -- RMSE validate: 7063\n"
     ]
    },
    {
     "data": {
      "image/png": "[encoded data removed]",
      "text/plain": [
       "<Figure size 864x288 with 1 Axes>"
      ]
     },
     "metadata": {},
     "output_type": "display_data"
    }
   ],
   "source": [
    "evaluate('amount', 'simple_average')"
   ]
  },
  {
   "cell_type": "code",
   "execution_count": 90,
   "id": "920b6345",
   "metadata": {},
   "outputs": [
    {
     "data": {
      "text/html": [
       "<div>\n",
       "<style scoped>\n",
       "    .dataframe tbody tr th:only-of-type {\n",
       "        vertical-align: middle;\n",
       "    }\n",
       "\n",
       "    .dataframe tbody tr th {\n",
       "        vertical-align: top;\n",
       "    }\n",
       "\n",
       "    .dataframe thead th {\n",
       "        text-align: right;\n",
       "    }\n",
       "</style>\n",
       "<table border=\"1\" class=\"dataframe\">\n",
       "  <thead>\n",
       "    <tr style=\"text-align: right;\">\n",
       "      <th></th>\n",
       "      <th>model_name</th>\n",
       "      <th>train_score</th>\n",
       "      <th>validate_score</th>\n",
       "    </tr>\n",
       "  </thead>\n",
       "  <tbody>\n",
       "    <tr>\n",
       "      <th>0</th>\n",
       "      <td>simple_average</td>\n",
       "      <td>4777</td>\n",
       "      <td>7063</td>\n",
       "    </tr>\n",
       "  </tbody>\n",
       "</table>\n",
       "</div>"
      ],
      "text/plain": [
       "       model_name  train_score  validate_score\n",
       "0  simple_average         4777            7063"
      ]
     },
     "execution_count": 90,
     "metadata": {},
     "output_type": "execute_result"
    }
   ],
   "source": [
    "scores"
   ]
  },
  {
   "cell_type": "code",
   "execution_count": 87,
   "id": "d5bc040c",
   "metadata": {},
   "outputs": [],
   "source": [
    "# to remove values from scores\n",
    "scores.drop(scores.index, axis=0, inplace=True)"
   ]
  },
  {
   "cell_type": "markdown",
   "id": "7cf226e2",
   "metadata": {},
   "source": [
    "#### Moving Average"
   ]
  },
  {
   "cell_type": "code",
   "execution_count": 99,
   "id": "ab806c28",
   "metadata": {},
   "outputs": [],
   "source": [
    "target = 'amount'"
   ]
  },
  {
   "cell_type": "code",
   "execution_count": 97,
   "id": "8461896c",
   "metadata": {},
   "outputs": [],
   "source": [
    "period = 3\n",
    "ma = 'moving_average'\n",
    "rolling_amount = round(train.amount.rolling(period).mean()[-1], 2)\n",
    "predictions_train[ma] = rolling_amount\n",
    "predictions_validate[ma] = rolling_amount"
   ]
  },
  {
   "cell_type": "code",
   "execution_count": 100,
   "id": "bc8d255a",
   "metadata": {},
   "outputs": [
    {
     "name": "stdout",
     "output_type": "stream",
     "text": [
      "amount -- RMSE train: 7541\n",
      "amount -- RMSE validate: 1315\n"
     ]
    },
    {
     "data": {
      "image/png": "[encoded data removed]",
      "text/plain": [
       "<Figure size 864x288 with 1 Axes>"
      ]
     },
     "metadata": {},
     "output_type": "display_data"
    }
   ],
   "source": [
    "evaluate(target, ma)"
   ]
  },
  {
   "cell_type": "code",
   "execution_count": 101,
   "id": "942512ab",
   "metadata": {},
   "outputs": [
    {
     "data": {
      "text/html": [
       "<div>\n",
       "<style scoped>\n",
       "    .dataframe tbody tr th:only-of-type {\n",
       "        vertical-align: middle;\n",
       "    }\n",
       "\n",
       "    .dataframe tbody tr th {\n",
       "        vertical-align: top;\n",
       "    }\n",
       "\n",
       "    .dataframe thead th {\n",
       "        text-align: right;\n",
       "    }\n",
       "</style>\n",
       "<table border=\"1\" class=\"dataframe\">\n",
       "  <thead>\n",
       "    <tr style=\"text-align: right;\">\n",
       "      <th></th>\n",
       "      <th>model_name</th>\n",
       "      <th>train_score</th>\n",
       "      <th>validate_score</th>\n",
       "    </tr>\n",
       "  </thead>\n",
       "  <tbody>\n",
       "    <tr>\n",
       "      <th>0</th>\n",
       "      <td>simple_average</td>\n",
       "      <td>4777</td>\n",
       "      <td>7063</td>\n",
       "    </tr>\n",
       "    <tr>\n",
       "      <th>1</th>\n",
       "      <td>moving_average</td>\n",
       "      <td>7541</td>\n",
       "      <td>1315</td>\n",
       "    </tr>\n",
       "  </tbody>\n",
       "</table>\n",
       "</div>"
      ],
      "text/plain": [
       "       model_name  train_score  validate_score\n",
       "0  simple_average         4777            7063\n",
       "1  moving_average         7541            1315"
      ]
     },
     "execution_count": 101,
     "metadata": {},
     "output_type": "execute_result"
    }
   ],
   "source": [
    "scores"
   ]
  },
  {
   "cell_type": "markdown",
   "id": "28b15bed",
   "metadata": {},
   "source": [
    "#### Holt's Linear Trend Model"
   ]
  },
  {
   "cell_type": "code",
   "execution_count": 104,
   "id": "0b1e4008",
   "metadata": {},
   "outputs": [],
   "source": [
    "holt_linear = 'holt_linear'"
   ]
  },
  {
   "cell_type": "code",
   "execution_count": 109,
   "id": "47bcb431",
   "metadata": {},
   "outputs": [],
   "source": [
    "# create the Holt object \n",
    "holt = Holt(train[target], exponential=False, damped_trend=True)\n",
    "# fit the model \n",
    "holt = holt.fit(optimized=True)\n",
    "# make predictions for the train set"
   ]
  },
  {
   "cell_type": "code",
   "execution_count": 114,
   "id": "9d6889b4",
   "metadata": {},
   "outputs": [],
   "source": [
    "predictions_train[holt_linear] = round(holt.predict(start = train.index[0],\n",
    "                                   end = train.index[-1]),2)\n",
    "# make predictions for the validate set\n",
    "predictions_validate[holt_linear] = round(holt.predict(start = validate.index[0],\n",
    "                                   end = validate.index[-1]),2)"
   ]
  },
  {
   "cell_type": "code",
   "execution_count": 116,
   "id": "f4771d46",
   "metadata": {
    "scrolled": true
   },
   "outputs": [
    {
     "data": {
      "text/html": [
       "<div>\n",
       "<style scoped>\n",
       "    .dataframe tbody tr th:only-of-type {\n",
       "        vertical-align: middle;\n",
       "    }\n",
       "\n",
       "    .dataframe tbody tr th {\n",
       "        vertical-align: top;\n",
       "    }\n",
       "\n",
       "    .dataframe thead th {\n",
       "        text-align: right;\n",
       "    }\n",
       "</style>\n",
       "<table border=\"1\" class=\"dataframe\">\n",
       "  <thead>\n",
       "    <tr style=\"text-align: right;\">\n",
       "      <th></th>\n",
       "      <th>simple_average</th>\n",
       "      <th>moving_average</th>\n",
       "      <th>holt_linear</th>\n",
       "    </tr>\n",
       "    <tr>\n",
       "      <th>month_invoiced</th>\n",
       "      <th></th>\n",
       "      <th></th>\n",
       "      <th></th>\n",
       "    </tr>\n",
       "  </thead>\n",
       "  <tbody>\n",
       "    <tr>\n",
       "      <th>2016-01-31</th>\n",
       "      <td>45568.54</td>\n",
       "      <td>51403.33</td>\n",
       "      <td>51748.62</td>\n",
       "    </tr>\n",
       "  </tbody>\n",
       "</table>\n",
       "</div>"
      ],
      "text/plain": [
       "                simple_average  moving_average  holt_linear\n",
       "month_invoiced                                             \n",
       "2016-01-31            45568.54        51403.33     51748.62"
      ]
     },
     "execution_count": 116,
     "metadata": {},
     "output_type": "execute_result"
    }
   ],
   "source": [
    "predictions_validate.head(1)"
   ]
  },
  {
   "cell_type": "code",
   "execution_count": 117,
   "id": "3fe748aa",
   "metadata": {},
   "outputs": [
    {
     "name": "stdout",
     "output_type": "stream",
     "text": [
      "amount -- RMSE train: 213\n",
      "amount -- RMSE validate: 346\n"
     ]
    },
    {
     "data": {
      "image/png": "[encoded data removed]",
      "text/plain": [
       "<Figure size 864x288 with 1 Axes>"
      ]
     },
     "metadata": {},
     "output_type": "display_data"
    }
   ],
   "source": [
    "evaluate(target, holt_linear)"
   ]
  },
  {
   "cell_type": "code",
   "execution_count": 119,
   "id": "06f3e626",
   "metadata": {},
   "outputs": [
    {
     "data": {
      "text/html": [
       "<div>\n",
       "<style scoped>\n",
       "    .dataframe tbody tr th:only-of-type {\n",
       "        vertical-align: middle;\n",
       "    }\n",
       "\n",
       "    .dataframe tbody tr th {\n",
       "        vertical-align: top;\n",
       "    }\n",
       "\n",
       "    .dataframe thead th {\n",
       "        text-align: right;\n",
       "    }\n",
       "</style>\n",
       "<table border=\"1\" class=\"dataframe\">\n",
       "  <thead>\n",
       "    <tr style=\"text-align: right;\">\n",
       "      <th></th>\n",
       "      <th>model_name</th>\n",
       "      <th>train_score</th>\n",
       "      <th>validate_score</th>\n",
       "    </tr>\n",
       "  </thead>\n",
       "  <tbody>\n",
       "    <tr>\n",
       "      <th>2</th>\n",
       "      <td>holt_linear</td>\n",
       "      <td>213</td>\n",
       "      <td>346</td>\n",
       "    </tr>\n",
       "    <tr>\n",
       "      <th>0</th>\n",
       "      <td>simple_average</td>\n",
       "      <td>4777</td>\n",
       "      <td>7063</td>\n",
       "    </tr>\n",
       "    <tr>\n",
       "      <th>1</th>\n",
       "      <td>moving_average</td>\n",
       "      <td>7541</td>\n",
       "      <td>1315</td>\n",
       "    </tr>\n",
       "  </tbody>\n",
       "</table>\n",
       "</div>"
      ],
      "text/plain": [
       "       model_name  train_score  validate_score\n",
       "2     holt_linear          213             346\n",
       "0  simple_average         4777            7063\n",
       "1  moving_average         7541            1315"
      ]
     },
     "execution_count": 119,
     "metadata": {},
     "output_type": "execute_result"
    }
   ],
   "source": [
    "scores.sort_values(by=['train_score', 'validate_score'])"
   ]
  },
  {
   "cell_type": "markdown",
   "id": "5c4e6c7c",
   "metadata": {},
   "source": [
    "I will run the use **Holt Linear Trend model** on the *test data set* as it is making best predictions both on train and validate sets"
   ]
  },
  {
   "cell_type": "code",
   "execution_count": 120,
   "id": "954d8211",
   "metadata": {},
   "outputs": [],
   "source": [
    "predictions_test = holt.predict(start = test.index[0],\n",
    "                                   end = test.index[-1])"
   ]
  },
  {
   "cell_type": "markdown",
   "id": "c8d2a065",
   "metadata": {},
   "source": [
    "#### Plot final results"
   ]
  },
  {
   "cell_type": "code",
   "execution_count": 131,
   "id": "1792cf81",
   "metadata": {},
   "outputs": [],
   "source": [
    "def plot_final_result(target_name=target, model_name=holt_linear):\n",
    "    predictions_test = holt.predict(start = test.index[0],\n",
    "                                   end = test.index[-1])\n",
    "    plt.figure(figsize = (12,4))\n",
    "    plt.plot(train[target_name], label='Train', linewidth=10, alpha=.2)\n",
    "    plt.plot(validate[target_name], label='Validate', linewidth=10, alpha=.2)\n",
    "    plt.plot(test[target_name], label='Test', linewidth=10, alpha=.2)\n",
    "    plt.plot(predictions_train[model_name], label=model_name + '_train')\n",
    "    plt.plot(predictions_validate[model_name], label=model_name + '_validate')\n",
    "    plt.plot(predictions_test, label=model_name + '_test')\n",
    "    plt.legend()\n",
    "    plt.title(target_name)\n",
    "    \n",
    "    print(f'RMSE test {np.sqrt(mean_squared_error(test[target_name], predictions_test))}')"
   ]
  },
  {
   "cell_type": "code",
   "execution_count": 132,
   "id": "027b4b14",
   "metadata": {},
   "outputs": [
    {
     "name": "stdout",
     "output_type": "stream",
     "text": [
      "RMSE test 1645.3810973059449\n"
     ]
    },
    {
     "data": {
      "image/png": "[encoded data removed]",
      "text/plain": [
       "<Figure size 864x288 with 1 Axes>"
      ]
     },
     "metadata": {},
     "output_type": "display_data"
    }
   ],
   "source": [
    "plot_final_result()"
   ]
  },
  {
   "cell_type": "markdown",
   "id": "cb5b21ed",
   "metadata": {},
   "source": [
    "Optional: Using store item demand"
   ]
  },
  {
   "cell_type": "code",
   "execution_count": null,
   "id": "fc7edef3",
   "metadata": {},
   "outputs": [],
   "source": []
  },
  {
   "cell_type": "markdown",
   "id": "c63c9425",
   "metadata": {},
   "source": [
    "1. Predict 2018 total **monthly** sales for a single store and/or item by creating a model using prophet."
   ]
  },
  {
   "cell_type": "code",
   "execution_count": null,
   "id": "ebec87e1",
   "metadata": {},
   "outputs": [],
   "source": []
  },
  {
   "cell_type": "markdown",
   "id": "a7f8a158",
   "metadata": {},
   "source": [
    "2. Return a dataframe with the month, store_id, y-hat, and the confidence intervals (y-hat lower, y-hat upper)."
   ]
  },
  {
   "cell_type": "code",
   "execution_count": null,
   "id": "caf28d48",
   "metadata": {},
   "outputs": [],
   "source": []
  },
  {
   "cell_type": "markdown",
   "id": "5ed882a0",
   "metadata": {},
   "source": [
    "3. Plot the 2018 monthly sales predictions."
   ]
  },
  {
   "cell_type": "code",
   "execution_count": null,
   "id": "f4d330af",
   "metadata": {},
   "outputs": [],
   "source": []
  }
 ],
 "metadata": {
  "kernelspec": {
   "display_name": "Python 3 (ipykernel)",
   "language": "python",
   "name": "python3"
  },
  "language_info": {
   "codemirror_mode": {
    "name": "ipython",
    "version": 3
   },
   "file_extension": ".py",
   "mimetype": "text/x-python",
   "name": "python",
   "nbconvert_exporter": "python",
   "pygments_lexer": "ipython3",
   "version": "3.9.12"
  }
 },
 "nbformat": 4,
 "nbformat_minor": 5
}
